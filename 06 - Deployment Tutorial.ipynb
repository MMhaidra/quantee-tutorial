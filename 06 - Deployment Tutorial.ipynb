{
 "cells": [
  {
   "cell_type": "markdown",
   "metadata": {},
   "source": [
    "![title](img/logo_white_full.png)"
   ]
  },
  {
   "cell_type": "markdown",
   "metadata": {},
   "source": [
    "# Deployment Tutorial\n",
    "\n",
    "In this part of the tutorial, we are going to learn how to deploy a simple app written in the previous Dashboards tutorial.\n",
    "\n",
    "The plan is to deploy an app on Heroku - free cloud application platform to host Python apps. You will need to create a separate folder with your application, create git repository in the folder and create a virtual environment for your app. We will go step-by-step so do not worry.\n",
    "\n",
    "---\n",
    "## Prerequisites\n",
    "1. Check whether you have installed git. Please make sure that _C:\\Program Files\\Git\\bin\\_ and _C:\\Program Files\\Git\\cmd\\_ are added to ```PATH``` environment variable. \n",
    "2. Create [Heroku account](https://signup.heroku.com/). Please make sure that _C:\\Program Files\\heroku\\bin_ is added to ```PATH``` environment variable. \n",
    "3. Install virtual environment for Python with ```$ pip install virtualenv```.\n",
    "\n",
    "---\n",
    "## Deployment\n",
    "1. Copy app.py and utils_dash.py files from this tutorial repo to the separate folder called **quantee-[your nickname]-tutorial**, replace [your nickname] with anything you want (the name should be unique).  \n",
    "2. Open command window or Anaconda prompt and go to the location of the folder with ```$ cd your-folder-path```.\n",
    "3. Login to Heroku account with ```$ heroku login```. The login page in your default web browser should appear after you press some key. Log in and continue.\n",
    "4. Let's initialize git repo in your folder.\n",
    "    - Run ```$ git init```. After this, you should see a hidden folder \".git\" in the main folder.\n",
    "    - Create .gitignore file. This file tells git to ignore some directories and files in the folder. Open notepad and create a text file to ignore \"venv\" folder and all files with extension .pyc:\n",
    "![gitignoretext](img/gitignore.png)\n",
    "Save it as gitignore.txt in the folder. Go to command window and rename the file ```$ ren gitignore.txt .gitignore```\n",
    "5. Now, we should create a virtual environment for your app. Why it is required? We obviously do not need to include all our Python libraries on Heroku server as our simple app just need a few. Thus, we will create a virtual environment, install required libraries to run our app on the virtual environment and prepare a requirements.txt file for the Heroku app. \n",
    "    - Firstly, we create a virtual environment with ```$ python -m virtualenv venv```. \n",
    "    - Then, activate it ```$ venv\\Scripts\\activate```. Now all pip commands and python commands will be executed from virtual environment, not your Python installation!\n",
    "    - ```$ pip install pandas```\n",
    "```$ pip install dash```\n",
    "```$ pip install gunicorn```\n",
    "    - Now, create requirements.txt file ```$ pip freeze > requirements.txt```. According to this file, Heroku will build the environment on the server. After you create requirements.txt file, you can actually deactivate virtual environment with ```$ venv\\Scripts\\deactivate``` and delete venv folder, but it might be convenient to keep it for further changes. For now, we keep it.\n",
    "6. Create Procfile that will tell Heroku which Python file to run on initialization and how to run it (gunicorn). Open notepad, paste this text \"web: gunicorn app:server\" and save as Procfile.txt in the main folder. Then, go to the folder and delete .txt extension. After that, your folder should look like this: \n",
    "![folder](img/appfolder.png)\n",
    "7. Now, we come back to command window. Let's create an application on Heroku server with ```$ heroku create quantee-[your nickname]-tutorial```.\n",
    "8. Add and commit all created files to git. ```\n",
    "$ git add .\n",
    "$ git config user.name \"someone\"\n",
    "$ git config user.email \"someone@someplace.com\"\n",
    "$ git commit -m \"Initial app\"\n",
    "```\n",
    "9. Push git repo to Heroku server with ```$ git push heroku master```\n",
    "10. Now, visit https://quantee-[your nickname]-tutorial.herokuapp.com/ to see your app! It is not on external server so you can share the link with your friend, relatives or anyone you want!"
   ]
  },
  {
   "cell_type": "markdown",
   "metadata": {},
   "source": [
    "Summary of commands:\n",
    "\n",
    "```\n",
    "\n",
    "heroku login\n",
    "git init\n",
    "python -m virtualenv venv\n",
    "venv\\Scripts\\activate\n",
    "\n",
    "ren gitignore.txt .gitignore\n",
    "\n",
    "pip install pandas\n",
    "pip install dash\n",
    "pip install gunicorn\n",
    "pip freeze > requirements.txt\n",
    "\n",
    "heroku create  heroku create quantee-[your nickname]-tutorial\n",
    "git add .\n",
    "git config user.name \"someone\"\n",
    "git config user.email \"someone@someplace.com\"\n",
    "git commit -m \"Initial app\"\n",
    "git push heroku master\n",
    "\n",
    "```"
   ]
  },
  {
   "cell_type": "markdown",
   "metadata": {},
   "source": [
    "---\n",
    "## Deployment with DB\n",
    "Advanced apps requires a database to store User information, data, etc. It is also possible to install PostgreSQL database on Heroku and access it with Python. As this is advanced material it is out of scope of the tutorial, but ask your CEO about details how to do it."
   ]
  }
 ],
 "metadata": {
  "kernelspec": {
   "display_name": "Python 3",
   "language": "python",
   "name": "python3"
  },
  "language_info": {
   "codemirror_mode": {
    "name": "ipython",
    "version": 3
   },
   "file_extension": ".py",
   "mimetype": "text/x-python",
   "name": "python",
   "nbconvert_exporter": "python",
   "pygments_lexer": "ipython3",
   "version": "3.6.1"
  }
 },
 "nbformat": 4,
 "nbformat_minor": 2
}
