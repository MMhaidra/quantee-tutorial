{
 "cells": [
  {
   "cell_type": "markdown",
   "metadata": {},
   "source": [
    "![title](img/logo_white_full.png)"
   ]
  },
  {
   "cell_type": "markdown",
   "metadata": {},
   "source": [
    "# Dashboards Tutorial\n",
    "\n",
    "In this part of the tutorial, we are going to learn Plotly and Dash syntax. This will form a basis for you to build your own interactive plots and beautiful dashboards!\n",
    "\n",
    "**What is Plotly?** \n",
    "\n",
    "[Plotly](https://plot.ly/) is a framework that includes visualization tools and Python API library to intuitively build interactive plots. \n",
    "\n",
    "**What is Dash?** \n",
    "\n",
    "Actually, [Dash](https://plot.ly/products/dash/) is a product of Plotly, and comes with all components required to build modern UX application (sliders, check-boxes, buttons, etc.) with HTML objects to create a graphical layout of a dashboard. Dash is a Python alternative of R Shiny, but the advantage here is that you can directly embed your Plotly graphs in Dash app!"
   ]
  },
  {
   "cell_type": "markdown",
   "metadata": {},
   "source": [
    "---\n",
    "## Plotly basics\n",
    "You can use Plotly in two modes:\n",
    "* **online** - you need to set up an account in Plotly Chart Studio and created graphs are automatically sent to the web-server.\n",
    "* **offline** - this is an option we are going to use. Just like matplotlib, it creates the plots locally.\n",
    "\n",
    "Now, in ```plotly.offline``` mode you can create plots in two ways:\n",
    "* **plot** - if you create a Plotly chart with ```plot``` method, it is going to be saved in .html file and opened in your local web browser.\n",
    "* **iplot** - if you create a Plotly chart with ```iplot``` method, it is going to be directly showed in-line iPython notebook. \n",
    "\n",
    "Let's create a simple chart in-line Jupyter console."
   ]
  },
  {
   "cell_type": "code",
   "execution_count": 1,
   "metadata": {},
   "outputs": [
    {
     "data": {
      "text/html": [
       "<script type=\"text/javascript\">window.PlotlyConfig = {MathJaxConfig: 'local'};</script><script type=\"text/javascript\">if (window.MathJax) {MathJax.Hub.Config({SVG: {font: \"STIX-Web\"}});}</script><script>requirejs.config({paths: { 'plotly': ['https://cdn.plot.ly/plotly-latest.min']},});if(!window._Plotly) {require(['plotly'],function(plotly) {window._Plotly=plotly;});}</script>"
      ],
      "text/vnd.plotly.v1+html": [
       "<script type=\"text/javascript\">window.PlotlyConfig = {MathJaxConfig: 'local'};</script><script type=\"text/javascript\">if (window.MathJax) {MathJax.Hub.Config({SVG: {font: \"STIX-Web\"}});}</script><script>requirejs.config({paths: { 'plotly': ['https://cdn.plot.ly/plotly-latest.min']},});if(!window._Plotly) {require(['plotly'],function(plotly) {window._Plotly=plotly;});}</script>"
      ]
     },
     "metadata": {},
     "output_type": "display_data"
    },
    {
     "data": {
      "application/vnd.plotly.v1+json": {
       "config": {
        "linkText": "Export to plot.ly",
        "plotlyServerURL": "https://plot.ly",
        "showLink": true
       },
       "data": [
        {
         "type": "scatter",
         "uid": "97068b07-28b4-42a9-9c5b-f1c22b904aec",
         "x": [
          1,
          2,
          3,
          4
         ],
         "y": [
          10,
          15,
          13,
          17
         ]
        },
        {
         "type": "scatter",
         "uid": "e8f1478e-aedb-4e2f-b896-55bfbc184d4a",
         "x": [
          1,
          2,
          3,
          4
         ],
         "y": [
          16,
          5,
          11,
          9
         ]
        }
       ],
       "layout": {
        "title": "Plotly Graph"
       }
      },
      "text/html": [
       "<div id=\"a9d803d4-9428-40f6-8a58-2c619459f16b\" style=\"height: 525px; width: 100%;\" class=\"plotly-graph-div\"></div><script type=\"text/javascript\">require([\"plotly\"], function(Plotly) { window.PLOTLYENV=window.PLOTLYENV || {};window.PLOTLYENV.BASE_URL=\"https://plot.ly\";Plotly.newPlot(\"a9d803d4-9428-40f6-8a58-2c619459f16b\", [{\"x\": [1, 2, 3, 4], \"y\": [10, 15, 13, 17], \"type\": \"scatter\", \"uid\": \"97068b07-28b4-42a9-9c5b-f1c22b904aec\"}, {\"x\": [1, 2, 3, 4], \"y\": [16, 5, 11, 9], \"type\": \"scatter\", \"uid\": \"e8f1478e-aedb-4e2f-b896-55bfbc184d4a\"}], {\"title\": \"Plotly Graph\"}, {\"showLink\": true, \"linkText\": \"Export to plot.ly\", \"plotlyServerURL\": \"https://plot.ly\"})});</script><script type=\"text/javascript\">window.addEventListener(\"resize\", function(){window._Plotly.Plots.resize(document.getElementById(\"a9d803d4-9428-40f6-8a58-2c619459f16b\"));});</script>"
      ],
      "text/vnd.plotly.v1+html": [
       "<div id=\"a9d803d4-9428-40f6-8a58-2c619459f16b\" style=\"height: 525px; width: 100%;\" class=\"plotly-graph-div\"></div><script type=\"text/javascript\">require([\"plotly\"], function(Plotly) { window.PLOTLYENV=window.PLOTLYENV || {};window.PLOTLYENV.BASE_URL=\"https://plot.ly\";Plotly.newPlot(\"a9d803d4-9428-40f6-8a58-2c619459f16b\", [{\"x\": [1, 2, 3, 4], \"y\": [10, 15, 13, 17], \"type\": \"scatter\", \"uid\": \"97068b07-28b4-42a9-9c5b-f1c22b904aec\"}, {\"x\": [1, 2, 3, 4], \"y\": [16, 5, 11, 9], \"type\": \"scatter\", \"uid\": \"e8f1478e-aedb-4e2f-b896-55bfbc184d4a\"}], {\"title\": \"Plotly Graph\"}, {\"showLink\": true, \"linkText\": \"Export to plot.ly\", \"plotlyServerURL\": \"https://plot.ly\"})});</script><script type=\"text/javascript\">window.addEventListener(\"resize\", function(){window._Plotly.Plots.resize(document.getElementById(\"a9d803d4-9428-40f6-8a58-2c619459f16b\"));});</script>"
      ]
     },
     "metadata": {},
     "output_type": "display_data"
    }
   ],
   "source": [
    "from plotly.offline import iplot, init_notebook_mode # Interactive graphs\n",
    "import plotly.graph_objs as go \n",
    "\n",
    "init_notebook_mode(connected=True) # Required for Jupyter to produce in-line Plotly graphs\n",
    "\n",
    "trace0 = dict(\n",
    "    x=[1, 2, 3, 4],\n",
    "    y=[10, 15, 13, 17],\n",
    "    type='scatter'\n",
    ")\n",
    "trace1 = dict(\n",
    "    x=[1, 2, 3, 4],\n",
    "    y=[16, 5, 11, 9],\n",
    "    type='scatter'\n",
    ")\n",
    "\n",
    "layout = dict(title='Plotly Graph')\n",
    "\n",
    "fig = go.Figure(data=[trace0, trace1], layout=layout)\n",
    "iplot(fig)"
   ]
  },
  {
   "cell_type": "markdown",
   "metadata": {},
   "source": [
    "The ```iplot``` method generates ```go.Figure``` with the following arguments:\n",
    "* **data**: can have multiple traces in a list. A trace is the source of data for the part of the chart and contains individual settings such as colors, markers size, line width, etc. All information is passed as dictionaries.\n",
    "* **layout**: this is a layout of the chart i.e. the settings of axes, tick marks, grids, titles, legends, etc. All information is passed as dictionaries.\n",
    "\n",
    "That is basically the whole syntax of Plotly graphs. All other charts such as 3D surface plots, maps, etc. differ only by the type of chart and arguments inside traces.\n",
    "\n",
    "These are the chart you are able to do in Plotly:\n",
    "![Plotly charts](img/plotly_charts.png)\n",
    "\n",
    "For other examples and full reference, please visit [Plotly docs](https://plot.ly/python/#basic-charts)."
   ]
  },
  {
   "cell_type": "markdown",
   "metadata": {},
   "source": [
    "## Dash basics\n",
    "Dash applications are easy to create. Most of the time you will spend on customizing the layout to meet our client's expectations and deploying it on a stable server. \n",
    "\n",
    "Let's say you want to create a basic dashboard with two plots side-by-side and one dropdown to select a color of the first plot. It is a dummy example but will serve us as a building block for more advanced apps.\n",
    "\n",
    "Firstly, we import all the components required. Note two Plotly chart definitions imported from utils.py."
   ]
  },
  {
   "cell_type": "code",
   "execution_count": 9,
   "metadata": {},
   "outputs": [],
   "source": [
    "import flask # Flask server on which Dash app is build\n",
    "\n",
    "import pandas as pd # Data-Frames\n",
    "\n",
    "import dash # Dash app\n",
    "from dash.dependencies import Input, Output # For Dash callbacks\n",
    "import dash_core_components as dcc # Dash components\n",
    "import dash_html_components as html # Dash html components\n",
    "\n",
    "from utils_dash import dash_surface, dash_choropleth_map # Custom Utilities written for this tutorial"
   ]
  },
  {
   "cell_type": "markdown",
   "metadata": {},
   "source": [
    "We initilize a Dash app with Flask server instance and CSS stylesheet that will help us with page layout. The knowledge about how CSS works is not really required, but can turn out very helpful in layout customization. \n",
    "\n",
    "We also download yield curve data that will be used for plotting."
   ]
  },
  {
   "cell_type": "code",
   "execution_count": 5,
   "metadata": {},
   "outputs": [],
   "source": [
    "df = pd.read_csv('https://raw.githubusercontent.com/quanteeai/dash-yield-curves-demo/master/data/yc.csv')\n",
    "\n",
    "external_stylesheets = ['https://codepen.io/chriddyp/pen/bWLwgP.css']   \n",
    "server = flask.Flask('app')\n",
    "app = dash.Dash('app', server=server, external_stylesheets=external_stylesheets)"
   ]
  },
  {
   "cell_type": "markdown",
   "metadata": {},
   "source": [
    "Dash apps consist of two parts:\n",
    "* **layout** - definition of how dashboard layout should look like\n",
    "* **callbacks** - used to define interactions between layout elements (dropdowns, graphs, etc) and User\n",
    "\n",
    "Let's define above-mentioned layout. It should look like this:\n",
    "\n",
    "| title    \t|        \t|\n",
    "|----------\t|--------\t|\n",
    "| dropdown \t|        \t|\n",
    "| graph1   \t| graph2 \t|"
   ]
  },
  {
   "cell_type": "code",
   "execution_count": 6,
   "metadata": {},
   "outputs": [],
   "source": [
    "app.layout = html.Div([\n",
    "    \n",
    "    # Container for first row: header\n",
    "    html.H1('Example Dash App'),\n",
    "    \n",
    "    # Container for second row: dropdowns\n",
    "    html.Div([\n",
    "        \n",
    "        # Container for dropdown\n",
    "        html.Div([\n",
    "            dcc.Dropdown(\n",
    "                id='main-dropdown',\n",
    "                options=[\n",
    "                    {'label': '2019-02-28', 'value': '2019-02-28'},\n",
    "                    {'label': '2019-01-31', 'value': '2019-01-31'},\n",
    "                    {'label': '2018-11-30', 'value': '2018-11-30'}\n",
    "                ],\n",
    "                value='2019-02-28'\n",
    "            ), \n",
    "        ], className='six columns')\n",
    "        \n",
    "    ], className='row'),\n",
    "    \n",
    "    # Container for third row: Plotly charts\n",
    "    html.Div([\n",
    "        \n",
    "        # Container for left chart (updated in callback)\n",
    "        html.Div([\n",
    "            dcc.Graph(id='left-graph')\n",
    "        ], className='six columns'),\n",
    "        \n",
    "        # Container for right chart (updated straightaway)\n",
    "        html.Div([\n",
    "            dcc.Graph(id='right-graph', figure=dash_surface(df))\n",
    "        ], className='six columns')\n",
    "        \n",
    "    ], className='row')\n",
    "    \n",
    "])"
   ]
  },
  {
   "cell_type": "markdown",
   "metadata": {},
   "source": [
    "Note that the layout of the page is divided into multiple ```html.div```. The CSS stylesheet provides us a classNames for these divs (```row```, ```six columns```) so that everything is in the right place. The interactive components such as ```dcc.Dropdown``` and ```dcc.Graph``` has an ```id``` argument which will be used as an identifier in callbacks."
   ]
  },
  {
   "cell_type": "code",
   "execution_count": 7,
   "metadata": {},
   "outputs": [],
   "source": [
    "@app.callback(Output('left-graph', 'figure'),\n",
    "              [Input('main-dropdown', 'value')])\n",
    "def update_left_graph(selected_dropdown_value):\n",
    "    dff = df[(df.date == selected_dropdown_value) & (df.term == 1)]\n",
    "    return dash_choropleth_map(dff)"
   ]
  },
  {
   "cell_type": "markdown",
   "metadata": {},
   "source": [
    "We define a callback with decorator ```app.callback```. Then, we give one ```Output``` object and one or multiple ```Input``` objects. The function ```update_left_graph``` will be fired on app initilization and then every time the ```Input``` will change its value. Make sense, right?\n",
    "\n",
    "Now, it's time to run the app. Execute the below code snippet and go to http://127.0.0.1:8050/ to see your app!"
   ]
  },
  {
   "cell_type": "code",
   "execution_count": null,
   "metadata": {},
   "outputs": [],
   "source": [
    "if __name__ == '__main__':\n",
    "    app.run_server()"
   ]
  },
  {
   "cell_type": "markdown",
   "metadata": {},
   "source": [
    "To see the possibilities of Dash visit the [deployed demo](https://quantee-dash-yield-curves-demo.herokuapp.com/) that we show to our clients and official [Dash examples](https://dash.plot.ly/gallery). \n",
    "\n",
    "**Now, it is time to learn how to deploy our simple app in the next tutorial!**"
   ]
  }
 ],
 "metadata": {
  "kernelspec": {
   "display_name": "Python 3",
   "language": "python",
   "name": "python3"
  },
  "language_info": {
   "codemirror_mode": {
    "name": "ipython",
    "version": 3
   },
   "file_extension": ".py",
   "mimetype": "text/x-python",
   "name": "python",
   "nbconvert_exporter": "python",
   "pygments_lexer": "ipython3",
   "version": "3.6.1"
  }
 },
 "nbformat": 4,
 "nbformat_minor": 2
}
